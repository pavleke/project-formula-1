{
 "cells": [
  {
   "cell_type": "code",
   "execution_count": 38,
   "id": "5306d47d",
   "metadata": {},
   "outputs": [],
   "source": [
    "import pandas as pd\n",
    "import numpy as np\n",
    "import matplotlib.pyplot as plt\n",
    "import scipy.stats as sts\n",
    "import statistics\n",
    "from sklearn.model_selection import train_test_split\n",
    "from sklearn.linear_model import LogisticRegression\n",
    "from sklearn.preprocessing import MinMaxScaler\n",
    "from sklearn.preprocessing import StandardScaler\n",
    "from sklearn.metrics import classification_report\n",
    "from sklearn.model_selection import GridSearchCV\n",
    "from sklearn.metrics import roc_auc_score, accuracy_score, precision_score, recall_score\n",
    "from sklearn.metrics import fbeta_score, make_scorer\n",
    "import warnings\n",
    "warnings.filterwarnings(\"ignore\")"
   ]
  },
  {
   "cell_type": "markdown",
   "id": "d6aef663",
   "metadata": {},
   "source": [
    "Для машинного обучения мы будем использовать датафрейм ready.csv, который мы подготовили в тетрадке main_project. "
   ]
  },
  {
   "cell_type": "code",
   "execution_count": 2,
   "id": "255275fb",
   "metadata": {},
   "outputs": [],
   "source": [
    "df = pd.read_csv('https://raw.githubusercontent.com/pavleke/project-formula-1/pavleke-all_tables/ready.csv')"
   ]
  },
  {
   "cell_type": "code",
   "execution_count": 3,
   "id": "49e72276",
   "metadata": {},
   "outputs": [
    {
     "data": {
      "text/html": [
       "<div>\n",
       "<style scoped>\n",
       "    .dataframe tbody tr th:only-of-type {\n",
       "        vertical-align: middle;\n",
       "    }\n",
       "\n",
       "    .dataframe tbody tr th {\n",
       "        vertical-align: top;\n",
       "    }\n",
       "\n",
       "    .dataframe thead th {\n",
       "        text-align: right;\n",
       "    }\n",
       "</style>\n",
       "<table border=\"1\" class=\"dataframe\">\n",
       "  <thead>\n",
       "    <tr style=\"text-align: right;\">\n",
       "      <th></th>\n",
       "      <th>Unnamed: 0</th>\n",
       "      <th>raceId</th>\n",
       "      <th>constructorId</th>\n",
       "      <th>driverId</th>\n",
       "      <th>year</th>\n",
       "      <th>resultId</th>\n",
       "      <th>grid</th>\n",
       "      <th>positionOrder</th>\n",
       "      <th>status</th>\n",
       "      <th>status_short</th>\n",
       "      <th>...</th>\n",
       "      <th>abs_overtakings</th>\n",
       "      <th>overtakings_only_positive</th>\n",
       "      <th>avTeamQualiMill</th>\n",
       "      <th>avPosTeamRace</th>\n",
       "      <th>diffPosOrder</th>\n",
       "      <th>diffQualiMill</th>\n",
       "      <th>avTimeByQuali</th>\n",
       "      <th>driverTimeMillNormed</th>\n",
       "      <th>is_podium</th>\n",
       "      <th>win</th>\n",
       "    </tr>\n",
       "  </thead>\n",
       "  <tbody>\n",
       "    <tr>\n",
       "      <th>0</th>\n",
       "      <td>0</td>\n",
       "      <td>1</td>\n",
       "      <td>1</td>\n",
       "      <td>1</td>\n",
       "      <td>2009</td>\n",
       "      <td>7573</td>\n",
       "      <td>18</td>\n",
       "      <td>20</td>\n",
       "      <td>Disqualified</td>\n",
       "      <td>rules</td>\n",
       "      <td>...</td>\n",
       "      <td>2</td>\n",
       "      <td>0</td>\n",
       "      <td>86319.0</td>\n",
       "      <td>19.5</td>\n",
       "      <td>-0.5</td>\n",
       "      <td>-0.001562</td>\n",
       "      <td>86041.75</td>\n",
       "      <td>1.004791</td>\n",
       "      <td>0.0</td>\n",
       "      <td>0.0</td>\n",
       "    </tr>\n",
       "    <tr>\n",
       "      <th>1</th>\n",
       "      <td>17</td>\n",
       "      <td>1</td>\n",
       "      <td>1</td>\n",
       "      <td>5</td>\n",
       "      <td>2009</td>\n",
       "      <td>7572</td>\n",
       "      <td>12</td>\n",
       "      <td>19</td>\n",
       "      <td>Collision</td>\n",
       "      <td>collision</td>\n",
       "      <td>...</td>\n",
       "      <td>7</td>\n",
       "      <td>0</td>\n",
       "      <td>86319.0</td>\n",
       "      <td>19.5</td>\n",
       "      <td>0.5</td>\n",
       "      <td>0.001566</td>\n",
       "      <td>86041.75</td>\n",
       "      <td>1.001653</td>\n",
       "      <td>0.0</td>\n",
       "      <td>0.0</td>\n",
       "    </tr>\n",
       "    <tr>\n",
       "      <th>2</th>\n",
       "      <td>622</td>\n",
       "      <td>1</td>\n",
       "      <td>2</td>\n",
       "      <td>2</td>\n",
       "      <td>2009</td>\n",
       "      <td>7563</td>\n",
       "      <td>9</td>\n",
       "      <td>10</td>\n",
       "      <td>Finished</td>\n",
       "      <td>finished</td>\n",
       "      <td>...</td>\n",
       "      <td>1</td>\n",
       "      <td>0</td>\n",
       "      <td>85874.5</td>\n",
       "      <td>12.0</td>\n",
       "      <td>2.0</td>\n",
       "      <td>0.000553</td>\n",
       "      <td>86041.75</td>\n",
       "      <td>0.997504</td>\n",
       "      <td>0.0</td>\n",
       "      <td>0.0</td>\n",
       "    </tr>\n",
       "    <tr>\n",
       "      <th>3</th>\n",
       "      <td>639</td>\n",
       "      <td>1</td>\n",
       "      <td>2</td>\n",
       "      <td>9</td>\n",
       "      <td>2009</td>\n",
       "      <td>7567</td>\n",
       "      <td>4</td>\n",
       "      <td>14</td>\n",
       "      <td>Collision</td>\n",
       "      <td>collision</td>\n",
       "      <td>...</td>\n",
       "      <td>10</td>\n",
       "      <td>0</td>\n",
       "      <td>85874.5</td>\n",
       "      <td>12.0</td>\n",
       "      <td>-2.0</td>\n",
       "      <td>-0.000553</td>\n",
       "      <td>86041.75</td>\n",
       "      <td>0.998608</td>\n",
       "      <td>0.0</td>\n",
       "      <td>0.0</td>\n",
       "    </tr>\n",
       "    <tr>\n",
       "      <th>4</th>\n",
       "      <td>1045</td>\n",
       "      <td>1</td>\n",
       "      <td>3</td>\n",
       "      <td>3</td>\n",
       "      <td>2009</td>\n",
       "      <td>7559</td>\n",
       "      <td>5</td>\n",
       "      <td>6</td>\n",
       "      <td>Finished</td>\n",
       "      <td>finished</td>\n",
       "      <td>...</td>\n",
       "      <td>1</td>\n",
       "      <td>0</td>\n",
       "      <td>85960.0</td>\n",
       "      <td>12.0</td>\n",
       "      <td>6.0</td>\n",
       "      <td>0.001328</td>\n",
       "      <td>86041.75</td>\n",
       "      <td>0.997725</td>\n",
       "      <td>0.0</td>\n",
       "      <td>0.0</td>\n",
       "    </tr>\n",
       "  </tbody>\n",
       "</table>\n",
       "<p>5 rows × 33 columns</p>\n",
       "</div>"
      ],
      "text/plain": [
       "   Unnamed: 0  raceId  constructorId  driverId  year  resultId  grid  \\\n",
       "0           0       1              1         1  2009      7573    18   \n",
       "1          17       1              1         5  2009      7572    12   \n",
       "2         622       1              2         2  2009      7563     9   \n",
       "3         639       1              2         9  2009      7567     4   \n",
       "4        1045       1              3         3  2009      7559     5   \n",
       "\n",
       "   positionOrder        status status_short  ... abs_overtakings  \\\n",
       "0             20  Disqualified        rules  ...               2   \n",
       "1             19     Collision    collision  ...               7   \n",
       "2             10      Finished     finished  ...               1   \n",
       "3             14     Collision    collision  ...              10   \n",
       "4              6      Finished     finished  ...               1   \n",
       "\n",
       "   overtakings_only_positive  avTeamQualiMill  avPosTeamRace  diffPosOrder  \\\n",
       "0                          0          86319.0           19.5          -0.5   \n",
       "1                          0          86319.0           19.5           0.5   \n",
       "2                          0          85874.5           12.0           2.0   \n",
       "3                          0          85874.5           12.0          -2.0   \n",
       "4                          0          85960.0           12.0           6.0   \n",
       "\n",
       "   diffQualiMill  avTimeByQuali  driverTimeMillNormed  is_podium  win  \n",
       "0      -0.001562       86041.75              1.004791        0.0  0.0  \n",
       "1       0.001566       86041.75              1.001653        0.0  0.0  \n",
       "2       0.000553       86041.75              0.997504        0.0  0.0  \n",
       "3      -0.000553       86041.75              0.998608        0.0  0.0  \n",
       "4       0.001328       86041.75              0.997725        0.0  0.0  \n",
       "\n",
       "[5 rows x 33 columns]"
      ]
     },
     "execution_count": 3,
     "metadata": {},
     "output_type": "execute_result"
    }
   ],
   "source": [
    "df.head()"
   ]
  },
  {
   "cell_type": "code",
   "execution_count": 4,
   "id": "78f5051c",
   "metadata": {},
   "outputs": [],
   "source": [
    "df['weather_main'].fillna('', inplace=True)"
   ]
  },
  {
   "cell_type": "markdown",
   "id": "78f3db27",
   "metadata": {},
   "source": [
    "Удалим статусы, потому что до начала гонки мы не знаем, как она закончится"
   ]
  },
  {
   "cell_type": "code",
   "execution_count": 5,
   "id": "b554e109",
   "metadata": {},
   "outputs": [],
   "source": [
    "df.drop(['status', 'status_short'], axis=1, inplace=True)"
   ]
  },
  {
   "cell_type": "code",
   "execution_count": 6,
   "id": "ea771a43",
   "metadata": {},
   "outputs": [],
   "source": [
    "df.fillna(0, inplace=True)"
   ]
  },
  {
   "cell_type": "markdown",
   "id": "e053a128",
   "metadata": {},
   "source": [
    "Удалим признаки, которые были выведены непосредственно из признака 'positionOrder', то есть те, при подсчете которых учитывались итоговые результаты гонок"
   ]
  },
  {
   "cell_type": "markdown",
   "id": "0f2ede80",
   "metadata": {},
   "source": [
    "Преобразуем столбцы с категориальными данными (weather_main) с помощью ONE-HOT кодирования"
   ]
  },
  {
   "cell_type": "code",
   "execution_count": 7,
   "id": "cbab10ca",
   "metadata": {},
   "outputs": [
    {
     "name": "stdout",
     "output_type": "stream",
     "text": [
      "Data shape: (26097, 33)\n"
     ]
    },
    {
     "data": {
      "text/html": [
       "<div>\n",
       "<style scoped>\n",
       "    .dataframe tbody tr th:only-of-type {\n",
       "        vertical-align: middle;\n",
       "    }\n",
       "\n",
       "    .dataframe tbody tr th {\n",
       "        vertical-align: top;\n",
       "    }\n",
       "\n",
       "    .dataframe thead th {\n",
       "        text-align: right;\n",
       "    }\n",
       "</style>\n",
       "<table border=\"1\" class=\"dataframe\">\n",
       "  <thead>\n",
       "    <tr style=\"text-align: right;\">\n",
       "      <th></th>\n",
       "      <th>Unnamed: 0</th>\n",
       "      <th>raceId</th>\n",
       "      <th>constructorId</th>\n",
       "      <th>driverId</th>\n",
       "      <th>year</th>\n",
       "      <th>resultId</th>\n",
       "      <th>grid</th>\n",
       "      <th>positionOrder</th>\n",
       "      <th>circuitId</th>\n",
       "      <th>debut_raceId</th>\n",
       "      <th>...</th>\n",
       "      <th>avPosTeamRace</th>\n",
       "      <th>diffPosOrder</th>\n",
       "      <th>diffQualiMill</th>\n",
       "      <th>avTimeByQuali</th>\n",
       "      <th>driverTimeMillNormed</th>\n",
       "      <th>is_podium</th>\n",
       "      <th>win</th>\n",
       "      <th>weather_main_changing</th>\n",
       "      <th>weather_main_dry</th>\n",
       "      <th>weather_main_wet</th>\n",
       "    </tr>\n",
       "  </thead>\n",
       "  <tbody>\n",
       "    <tr>\n",
       "      <th>0</th>\n",
       "      <td>0</td>\n",
       "      <td>1</td>\n",
       "      <td>1</td>\n",
       "      <td>1</td>\n",
       "      <td>2009</td>\n",
       "      <td>7573</td>\n",
       "      <td>18</td>\n",
       "      <td>20</td>\n",
       "      <td>1</td>\n",
       "      <td>36</td>\n",
       "      <td>...</td>\n",
       "      <td>19.5</td>\n",
       "      <td>-0.5</td>\n",
       "      <td>-0.001562</td>\n",
       "      <td>86041.75</td>\n",
       "      <td>1.004791</td>\n",
       "      <td>0.0</td>\n",
       "      <td>0.0</td>\n",
       "      <td>0</td>\n",
       "      <td>1</td>\n",
       "      <td>0</td>\n",
       "    </tr>\n",
       "    <tr>\n",
       "      <th>1</th>\n",
       "      <td>17</td>\n",
       "      <td>1</td>\n",
       "      <td>1</td>\n",
       "      <td>5</td>\n",
       "      <td>2009</td>\n",
       "      <td>7572</td>\n",
       "      <td>12</td>\n",
       "      <td>19</td>\n",
       "      <td>1</td>\n",
       "      <td>36</td>\n",
       "      <td>...</td>\n",
       "      <td>19.5</td>\n",
       "      <td>0.5</td>\n",
       "      <td>0.001566</td>\n",
       "      <td>86041.75</td>\n",
       "      <td>1.001653</td>\n",
       "      <td>0.0</td>\n",
       "      <td>0.0</td>\n",
       "      <td>0</td>\n",
       "      <td>1</td>\n",
       "      <td>0</td>\n",
       "    </tr>\n",
       "    <tr>\n",
       "      <th>2</th>\n",
       "      <td>622</td>\n",
       "      <td>1</td>\n",
       "      <td>2</td>\n",
       "      <td>2</td>\n",
       "      <td>2009</td>\n",
       "      <td>7563</td>\n",
       "      <td>9</td>\n",
       "      <td>10</td>\n",
       "      <td>1</td>\n",
       "      <td>158</td>\n",
       "      <td>...</td>\n",
       "      <td>12.0</td>\n",
       "      <td>2.0</td>\n",
       "      <td>0.000553</td>\n",
       "      <td>86041.75</td>\n",
       "      <td>0.997504</td>\n",
       "      <td>0.0</td>\n",
       "      <td>0.0</td>\n",
       "      <td>0</td>\n",
       "      <td>1</td>\n",
       "      <td>0</td>\n",
       "    </tr>\n",
       "    <tr>\n",
       "      <th>3</th>\n",
       "      <td>639</td>\n",
       "      <td>1</td>\n",
       "      <td>2</td>\n",
       "      <td>9</td>\n",
       "      <td>2009</td>\n",
       "      <td>7567</td>\n",
       "      <td>4</td>\n",
       "      <td>14</td>\n",
       "      <td>1</td>\n",
       "      <td>65</td>\n",
       "      <td>...</td>\n",
       "      <td>12.0</td>\n",
       "      <td>-2.0</td>\n",
       "      <td>-0.000553</td>\n",
       "      <td>86041.75</td>\n",
       "      <td>0.998608</td>\n",
       "      <td>0.0</td>\n",
       "      <td>0.0</td>\n",
       "      <td>0</td>\n",
       "      <td>1</td>\n",
       "      <td>0</td>\n",
       "    </tr>\n",
       "    <tr>\n",
       "      <th>4</th>\n",
       "      <td>1045</td>\n",
       "      <td>1</td>\n",
       "      <td>3</td>\n",
       "      <td>3</td>\n",
       "      <td>2009</td>\n",
       "      <td>7559</td>\n",
       "      <td>5</td>\n",
       "      <td>6</td>\n",
       "      <td>1</td>\n",
       "      <td>53</td>\n",
       "      <td>...</td>\n",
       "      <td>12.0</td>\n",
       "      <td>6.0</td>\n",
       "      <td>0.001328</td>\n",
       "      <td>86041.75</td>\n",
       "      <td>0.997725</td>\n",
       "      <td>0.0</td>\n",
       "      <td>0.0</td>\n",
       "      <td>0</td>\n",
       "      <td>1</td>\n",
       "      <td>0</td>\n",
       "    </tr>\n",
       "  </tbody>\n",
       "</table>\n",
       "<p>5 rows × 33 columns</p>\n",
       "</div>"
      ],
      "text/plain": [
       "   Unnamed: 0  raceId  constructorId  driverId  year  resultId  grid  \\\n",
       "0           0       1              1         1  2009      7573    18   \n",
       "1          17       1              1         5  2009      7572    12   \n",
       "2         622       1              2         2  2009      7563     9   \n",
       "3         639       1              2         9  2009      7567     4   \n",
       "4        1045       1              3         3  2009      7559     5   \n",
       "\n",
       "   positionOrder  circuitId  debut_raceId  ...  avPosTeamRace  diffPosOrder  \\\n",
       "0             20          1            36  ...           19.5          -0.5   \n",
       "1             19          1            36  ...           19.5           0.5   \n",
       "2             10          1           158  ...           12.0           2.0   \n",
       "3             14          1            65  ...           12.0          -2.0   \n",
       "4              6          1            53  ...           12.0           6.0   \n",
       "\n",
       "   diffQualiMill  avTimeByQuali  driverTimeMillNormed  is_podium  win  \\\n",
       "0      -0.001562       86041.75              1.004791        0.0  0.0   \n",
       "1       0.001566       86041.75              1.001653        0.0  0.0   \n",
       "2       0.000553       86041.75              0.997504        0.0  0.0   \n",
       "3      -0.000553       86041.75              0.998608        0.0  0.0   \n",
       "4       0.001328       86041.75              0.997725        0.0  0.0   \n",
       "\n",
       "   weather_main_changing  weather_main_dry  weather_main_wet  \n",
       "0                      0                 1                 0  \n",
       "1                      0                 1                 0  \n",
       "2                      0                 1                 0  \n",
       "3                      0                 1                 0  \n",
       "4                      0                 1                 0  \n",
       "\n",
       "[5 rows x 33 columns]"
      ]
     },
     "execution_count": 7,
     "metadata": {},
     "output_type": "execute_result"
    }
   ],
   "source": [
    "df_dum = pd.get_dummies(df, drop_first=True)\n",
    "print(f\"Data shape: {df_dum.shape}\")\n",
    "df_dum.head()"
   ]
  },
  {
   "cell_type": "code",
   "execution_count": 8,
   "id": "3729057a",
   "metadata": {},
   "outputs": [],
   "source": [
    "df_dum.drop(['positionOrder', 'diffPosOrder', 'avPosTeamRace', 'overtakings', 'abs_overtakings', 'overtakings_only_positive'], axis=1, inplace=True)"
   ]
  },
  {
   "cell_type": "markdown",
   "id": "33688b58",
   "metadata": {},
   "source": [
    "Сначала будем делить на train и test только список raceId, чтобы в тренировочную и тестовую выборку попали гонки целиком, потому что иначе предсказание потеряет смысл"
   ]
  },
  {
   "cell_type": "code",
   "execution_count": 9,
   "id": "ca1172ba",
   "metadata": {},
   "outputs": [],
   "source": [
    "raceId_train, raceId_test = train_test_split(df_dum['raceId'].unique(), test_size=0.3, random_state=13)"
   ]
  },
  {
   "cell_type": "code",
   "execution_count": 10,
   "id": "fde9f1c4",
   "metadata": {},
   "outputs": [],
   "source": [
    "raceId_train = list(raceId_train)\n",
    "raceId_test = list(raceId_test)"
   ]
  },
  {
   "cell_type": "markdown",
   "id": "e07e9351",
   "metadata": {},
   "source": [
    "Теперь разделим сами выборки на тестовую и тренировочную на основе полученных raceId"
   ]
  },
  {
   "cell_type": "code",
   "execution_count": 11,
   "id": "bbdbc2f3",
   "metadata": {},
   "outputs": [],
   "source": [
    "df_train = df_dum[df_dum['raceId'].isin(raceId_train)]\n",
    "df_test = df_dum[df_dum['raceId'].isin(raceId_test)]"
   ]
  },
  {
   "cell_type": "markdown",
   "id": "213c92a2",
   "metadata": {},
   "source": [
    "Разделим выборки на Х и у. в у1 находится колонка 'win', в y2 - колонка 'is_podium'"
   ]
  },
  {
   "cell_type": "code",
   "execution_count": 12,
   "id": "f97cf2eb",
   "metadata": {},
   "outputs": [],
   "source": [
    "X_train = df_train.drop(['win', 'is_podium'], axis=1)\n",
    "X_test = df_test.drop(['win', 'is_podium'], axis=1)\n",
    "y1_train = df_train['win']\n",
    "y1_test = df_test['win']\n",
    "y2_train = df_train['is_podium']\n",
    "y2_test = df_test['is_podium']"
   ]
  },
  {
   "cell_type": "markdown",
   "id": "ff7fd354",
   "metadata": {},
   "source": [
    "Изменим тип данных для некоторых столбцов на str, чтобы при дальнейшем масштабировании эти признаки не изменились (так как они скорее категориальные, чем количественные, так как показывают id)"
   ]
  },
  {
   "cell_type": "code",
   "execution_count": 13,
   "id": "d729d6f5",
   "metadata": {},
   "outputs": [],
   "source": [
    "X_test[['raceId', 'constructorId', 'driverId', 'resultId', 'circuitId']] = X_test[['raceId', 'constructorId', 'driverId', 'resultId', 'circuitId']].astype('str')"
   ]
  },
  {
   "cell_type": "code",
   "execution_count": 14,
   "id": "0a3a4574",
   "metadata": {},
   "outputs": [],
   "source": [
    "X_train[['raceId', 'constructorId', 'driverId', 'resultId', 'circuitId']] = X_train[['raceId', 'constructorId', 'driverId', 'resultId', 'circuitId']].astype('str')"
   ]
  },
  {
   "cell_type": "markdown",
   "id": "d85dbd29",
   "metadata": {},
   "source": [
    "Используем StandardScaler() для масштабирования признаков"
   ]
  },
  {
   "cell_type": "code",
   "execution_count": 15,
   "id": "ee8e1338",
   "metadata": {},
   "outputs": [],
   "source": [
    "ss = StandardScaler()\n",
    "X_train_new_s = ss.fit_transform(X_train)\n",
    "X_test_new_s = ss.transform(X_test)"
   ]
  },
  {
   "cell_type": "code",
   "execution_count": 16,
   "id": "5eb752d2",
   "metadata": {},
   "outputs": [],
   "source": [
    "model1 = LogisticRegression()\n",
    "model1.fit(X_train_new_s, y1_train)\n",
    "probs = model1.predict_proba(X_test_new_s)\n",
    "winner = probs[:, 1]\n",
    "y1_pred = model1.predict(X_test_new_s)"
   ]
  },
  {
   "cell_type": "code",
   "execution_count": 17,
   "id": "4ed8b375",
   "metadata": {},
   "outputs": [
    {
     "name": "stdout",
     "output_type": "stream",
     "text": [
      "ROC_AUC = 0.9308\n",
      "accuracy = 0.9587\n",
      "precision = 0.5652\n",
      "recall = 0.0398\n"
     ]
    }
   ],
   "source": [
    "roc_auc = roc_auc_score(y1_test, winner)\n",
    "accuracy = accuracy_score(y1_test, y1_pred)\n",
    "precision = precision_score(y1_test, y1_pred)\n",
    "recall = recall_score(y1_test, y1_pred)\n",
    "print('ROC_AUC = %.4f' % roc_auc)\n",
    "print('accuracy = %.4f' % accuracy)\n",
    "print('precision = %.4f' % precision)\n",
    "print('recall = %.4f' % recall)"
   ]
  },
  {
   "cell_type": "markdown",
   "id": "65bed148",
   "metadata": {},
   "source": [
    "Как мы видим ниже, из 324 гонок модель предсказывает только 23 победителей, потому что граница принятия решений выбрана равной 0.5"
   ]
  },
  {
   "cell_type": "code",
   "execution_count": 18,
   "id": "c89352e9",
   "metadata": {},
   "outputs": [
    {
     "data": {
      "text/plain": [
       "23"
      ]
     },
     "execution_count": 18,
     "metadata": {},
     "output_type": "execute_result"
    }
   ],
   "source": [
    "len(pd.DataFrame(y1_pred)[pd.DataFrame(y1_pred)[0] == 1])"
   ]
  },
  {
   "cell_type": "markdown",
   "id": "243fd4ac",
   "metadata": {},
   "source": [
    "Попробуем на основе полученных моделью вероятностей сделать так, чтобы гонщик, у которого максимальная вероятность победить считался победителем гонки"
   ]
  },
  {
   "cell_type": "code",
   "execution_count": 19,
   "id": "4033c86f",
   "metadata": {},
   "outputs": [],
   "source": [
    "res = pd.DataFrame((X_test.reset_index()).merge(pd.DataFrame(winner), right_index=True, left_index=True))\n",
    "res.rename(columns={0: 'prob_win_predicted'}, inplace=True)"
   ]
  },
  {
   "cell_type": "code",
   "execution_count": 20,
   "id": "e11edd94",
   "metadata": {},
   "outputs": [],
   "source": [
    "max_prob_win = pd.DataFrame(res.groupby('raceId')['prob_win_predicted'].max())"
   ]
  },
  {
   "cell_type": "code",
   "execution_count": 21,
   "id": "f574a650",
   "metadata": {},
   "outputs": [],
   "source": [
    "max_prob_win.rename(columns={'prob_win_predicted': 'max_prob_win'}, inplace=True)\n",
    "res = res.merge(max_prob_win, right_index=True, left_on='raceId', how='outer')"
   ]
  },
  {
   "cell_type": "code",
   "execution_count": 22,
   "id": "8b437dcb",
   "metadata": {
    "scrolled": true
   },
   "outputs": [],
   "source": [
    "res.loc[res['prob_win_predicted'] == res['max_prob_win'], 'winner'] = 1\n",
    "res['winner'].fillna(0, inplace=True)"
   ]
  },
  {
   "cell_type": "code",
   "execution_count": 23,
   "id": "c016b9ab",
   "metadata": {},
   "outputs": [
    {
     "name": "stdout",
     "output_type": "stream",
     "text": [
      "ROC_AUC = 0.9308\n",
      "accuracy = 0.9542\n",
      "precision = 0.4506\n",
      "recall = 0.4465\n"
     ]
    }
   ],
   "source": [
    "roc_auc = roc_auc_score(y1_test, winner)\n",
    "accuracy = accuracy_score(y1_test, res['winner'])\n",
    "precision = precision_score(y1_test, res['winner'])\n",
    "recall = recall_score(y1_test,  res['winner'])\n",
    "print('ROC_AUC = %.4f' % roc_auc)\n",
    "print('accuracy = %.4f' % accuracy)\n",
    "print('precision = %.4f' % precision)\n",
    "print('recall = %.4f' % recall)"
   ]
  },
  {
   "cell_type": "markdown",
   "id": "0e341dbc",
   "metadata": {},
   "source": [
    "Будем искать лучшие параметры для логистической регрессии с помощью GridSearch"
   ]
  },
  {
   "cell_type": "code",
   "execution_count": 24,
   "id": "be781ba6",
   "metadata": {},
   "outputs": [],
   "source": [
    "beta_scorer = make_scorer(fbeta_score, beta=5) #создаем бета scorer, чтобы подставить в gridsearch"
   ]
  },
  {
   "cell_type": "code",
   "execution_count": 25,
   "id": "7caf9aa0",
   "metadata": {},
   "outputs": [
    {
     "data": {
      "text/plain": [
       "'newton-cg'"
      ]
     },
     "execution_count": 25,
     "metadata": {},
     "output_type": "execute_result"
    }
   ],
   "source": [
    "solvers = ['lbfgs', 'liblinear', 'newton-cg', 'newton-cholesky', 'sag', 'saga']\n",
    "model_search = LogisticRegression()\n",
    "\n",
    "searcher_solv = GridSearchCV(model_search, param_grid={\"solver\": solvers},\n",
    "                        scoring=beta_scorer, cv=4)\n",
    "searcher_solv.fit(X_train_new_s, y1_train)\n",
    "\n",
    "best_solver = searcher_solv.best_params_[\"solver\"]\n",
    "\n",
    "best_solver"
   ]
  },
  {
   "cell_type": "code",
   "execution_count": 29,
   "id": "99bca800",
   "metadata": {},
   "outputs": [],
   "source": [
    "# Теперь найдем оптимальные параметры, зная, что оптимальный solver - 'newton-cg'\n",
    "from numpy.random import randint\n",
    "np.random.seed(13)\n",
    "model_ = LogisticRegression(solver='newton-cg')\n",
    "penalty = [None, 'l2']\n",
    "C = np.logspace(-7, 7, 20)\n",
    "tol = np.logspace(-5, 5, 30)\n",
    "i_s = np.logspace(-2, 5, 30)\n",
    "max_iter = np.random.randint(500, size=20)\n",
    "multi_class = ['auto', 'ovr', 'multinomial']"
   ]
  },
  {
   "cell_type": "code",
   "execution_count": 27,
   "id": "ae4e8a96",
   "metadata": {},
   "outputs": [
    {
     "name": "stdout",
     "output_type": "stream",
     "text": [
      "best_penalty =  None\n"
     ]
    }
   ],
   "source": [
    "searcher_pen = GridSearchCV(model_, param_grid={\"penalty\": penalty}, scoring=beta_scorer, cv=4)\n",
    "searcher_pen.fit(X_train_new_s, y1_train)\n",
    "best_penalty = searcher_pen.best_params_['penalty']\n",
    "print('best_penalty = ', best_penalty)"
   ]
  },
  {
   "cell_type": "code",
   "execution_count": 28,
   "id": "eb76d458",
   "metadata": {},
   "outputs": [
    {
     "name": "stdout",
     "output_type": "stream",
     "text": [
      "best_C = 517.9475\n"
     ]
    }
   ],
   "source": [
    "searcher_C = GridSearchCV(model_, param_grid={\"penalty\": penalty, 'C': C}, scoring=beta_scorer, cv=4)\n",
    "searcher_C.fit(X_train_new_s, y1_train)\n",
    "best_C = searcher_C.best_params_['C']\n",
    "print('best_C = %.4f' % best_C)"
   ]
  },
  {
   "cell_type": "code",
   "execution_count": 30,
   "id": "4207583b",
   "metadata": {},
   "outputs": [
    {
     "name": "stdout",
     "output_type": "stream",
     "text": [
      "best_tol = 0.0281\n"
     ]
    },
    {
     "data": {
      "image/png": "[encoded data removed]",
      "text/plain": [
       "<Figure size 432x288 with 1 Axes>"
      ]
     },
     "metadata": {
      "needs_background": "light"
     },
     "output_type": "display_data"
    }
   ],
   "source": [
    "searcher_tol = GridSearchCV(model_, param_grid={'tol': tol}, scoring=beta_scorer, cv=4)\n",
    "searcher_tol.fit(X_train_new_s, y1_train)\n",
    "best_tol = searcher_tol.best_params_['tol']\n",
    "print('best_tol = %.4f' % best_tol)\n",
    "plt.plot(tol, searcher_tol.cv_results_[\"mean_test_score\"])\n",
    "plt.xscale(\"log\")\n",
    "plt.xlabel(\"tol\")\n",
    "plt.ylabel(\"CV score\");"
   ]
  },
  {
   "cell_type": "code",
   "execution_count": 31,
   "id": "9028a1c6",
   "metadata": {},
   "outputs": [
    {
     "name": "stdout",
     "output_type": "stream",
     "text": [
      "intercept_scaling = 0.0100\n"
     ]
    },
    {
     "data": {
      "image/png": "[encoded data removed]",
      "text/plain": [
       "<Figure size 432x288 with 1 Axes>"
      ]
     },
     "metadata": {
      "needs_background": "light"
     },
     "output_type": "display_data"
    }
   ],
   "source": [
    "searcher_is = GridSearchCV(model_, param_grid={'intercept_scaling': i_s}, scoring=beta_scorer, cv=4)\n",
    "searcher_is.fit(X_train_new_s, y1_train)\n",
    "best_is = searcher_is.best_params_['intercept_scaling']\n",
    "print('intercept_scaling = %.4f' % best_is)\n",
    "plt.plot(i_s, searcher_is.cv_results_[\"mean_test_score\"])\n",
    "plt.xscale(\"log\")\n",
    "plt.xlabel(\"tol\")\n",
    "plt.ylabel(\"CV score\");"
   ]
  },
  {
   "cell_type": "code",
   "execution_count": 32,
   "id": "2b9f6ebe",
   "metadata": {},
   "outputs": [
    {
     "name": "stdout",
     "output_type": "stream",
     "text": [
      "best_max_iter: = 338.0000\n"
     ]
    },
    {
     "data": {
      "image/png": "[encoded data removed]",
      "text/plain": [
       "<Figure size 432x288 with 1 Axes>"
      ]
     },
     "metadata": {
      "needs_background": "light"
     },
     "output_type": "display_data"
    }
   ],
   "source": [
    "searcher_mi = GridSearchCV(model_, param_grid={'max_iter': max_iter}, scoring=beta_scorer, cv=4)\n",
    "searcher_mi.fit(X_train_new_s, y1_train)\n",
    "best_mi = searcher_mi.best_params_['max_iter']\n",
    "print('best_max_iter: = %.4f' % best_mi)\n",
    "plt.plot(max_iter, searcher_mi.cv_results_[\"mean_test_score\"])\n",
    "plt.xscale(\"log\")\n",
    "plt.xlabel(\"max_iter\")\n",
    "plt.ylabel(\"CV score\");"
   ]
  },
  {
   "cell_type": "code",
   "execution_count": 33,
   "id": "73af18e3",
   "metadata": {},
   "outputs": [
    {
     "name": "stdout",
     "output_type": "stream",
     "text": [
      "best_multi_class: =  auto\n"
     ]
    },
    {
     "data": {
      "image/png": "[encoded data removed]",
      "text/plain": [
       "<Figure size 432x288 with 1 Axes>"
      ]
     },
     "metadata": {
      "needs_background": "light"
     },
     "output_type": "display_data"
    }
   ],
   "source": [
    "searcher_mc = GridSearchCV(model_, param_grid={'multi_class': multi_class}, scoring=beta_scorer, cv=4)\n",
    "searcher_mc.fit(X_train_new_s, y1_train)\n",
    "best_mc = searcher_mc.best_params_['multi_class']\n",
    "print('best_multi_class: = ', best_mc)\n",
    "plt.plot(multi_class, searcher_mc.cv_results_[\"mean_test_score\"])\n",
    "plt.xscale(\"log\")\n",
    "plt.xlabel(\"multi_class\")\n",
    "plt.ylabel(\"CV score\");"
   ]
  },
  {
   "cell_type": "markdown",
   "id": "3743c956",
   "metadata": {},
   "source": [
    "Будем также подбирать weights"
   ]
  },
  {
   "cell_type": "code",
   "execution_count": 74,
   "id": "20a822ac",
   "metadata": {},
   "outputs": [],
   "source": [
    "keys = [1, 0]\n",
    "weights_1 = (np.linspace(0, 1, 31))\n",
    "weights_0 = 1 - weights_1\n",
    "arr_w = np.array([weights_1, weights_0])\n",
    "arr_w #array with weights\n",
    "d = pd.DataFrame(columns=[1, 0])\n",
    "d[1] = weights_1\n",
    "d[0] = weights_0\n",
    "d = round(d, 2)\n",
    "dict_weights = d.to_dict(orient='records') #удобно разделяем датафрейм на кучу словарей"
   ]
  },
  {
   "cell_type": "code",
   "execution_count": 39,
   "id": "62cd2268",
   "metadata": {},
   "outputs": [
    {
     "name": "stdout",
     "output_type": "stream",
     "text": [
      "F_beta score: 0.7887351778656125\n"
     ]
    }
   ],
   "source": [
    "logreg_weights = GridSearchCV(model_, param_grid={\n",
    "    'class_weight': dict_weights\n",
    "}, scoring=beta_scorer, cv=4, return_train_score=True)\n",
    "\n",
    "logreg_weights.fit(X_train_new_s, y1_train)\n",
    "best_weights = logreg_weights.best_params_['class_weight']\n",
    "y1_pred = logreg_weights.predict(X_test_new_s)\n",
    "p_pred = logreg_weights.predict_proba(X_test_new_s)\n",
    "p_pred = p_pred[:, -1]\n",
    "\n",
    "print('F_beta score:', fbeta_score(y1_test, y1_pred, beta=5))"
   ]
  },
  {
   "cell_type": "markdown",
   "id": "a517a805",
   "metadata": {},
   "source": [
    "Построим модель по полученным параметрам"
   ]
  },
  {
   "cell_type": "code",
   "execution_count": 40,
   "id": "c74aa94d",
   "metadata": {},
   "outputs": [],
   "source": [
    "model_opt = LogisticRegression(solver='newton-cg', penalty=best_penalty, C=best_C, tol=best_tol, intercept_scaling=best_is, max_iter=best_mi, multi_class=best_mc, class_weight=best_weights)\n",
    "model_opt.fit(X_train_new_s, y1_train)\n",
    "probs_opt = model_opt.predict_proba(X_test_new_s)\n",
    "winner_opt = probs_opt[:, 1]\n",
    "y1_pred_opt = model_opt.predict(X_test_new_s)"
   ]
  },
  {
   "cell_type": "code",
   "execution_count": 41,
   "id": "1e0c6090",
   "metadata": {},
   "outputs": [
    {
     "name": "stdout",
     "output_type": "stream",
     "text": [
      "ROC_AUC = 0.9232\n",
      "accuracy = 0.7910\n",
      "precision = 0.1591\n",
      "recall = 0.9358\n"
     ]
    }
   ],
   "source": [
    "roc_auc_opt = roc_auc_score(y1_test, winner_opt)\n",
    "accuracy_opt = accuracy_score(y1_test, y1_pred_opt)\n",
    "precision_opt = precision_score(y1_test, y1_pred_opt)\n",
    "recall_opt = recall_score(y1_test, y1_pred_opt)\n",
    "print('ROC_AUC = %.4f' % roc_auc_opt)\n",
    "print('accuracy = %.4f' % accuracy_opt)\n",
    "print('precision = %.4f' % precision_opt)\n",
    "print('recall = %.4f' % recall_opt)"
   ]
  },
  {
   "cell_type": "markdown",
   "id": "91fcfc08",
   "metadata": {},
   "source": [
    "Теперь модель дает слишком много победителей"
   ]
  },
  {
   "cell_type": "code",
   "execution_count": 42,
   "id": "f3d7ad61",
   "metadata": {},
   "outputs": [
    {
     "data": {
      "text/plain": [
       "1923"
      ]
     },
     "execution_count": 42,
     "metadata": {},
     "output_type": "execute_result"
    }
   ],
   "source": [
    "len(pd.DataFrame(y1_pred_opt)[pd.DataFrame(y1_pred_opt)[0] == 1])"
   ]
  },
  {
   "cell_type": "markdown",
   "id": "3841f5da",
   "metadata": {},
   "source": [
    "Скажем модели, чтобы она выбирала победителем в каждой гонке человека с наибольшей вероятностью из всех, кому она ставит 1"
   ]
  },
  {
   "cell_type": "markdown",
   "id": "54075f2e",
   "metadata": {},
   "source": [
    "Произведем те же операции, что и ранее, для того, чтобы называть победителем человека с наибольшей вероятностью победы"
   ]
  },
  {
   "cell_type": "code",
   "execution_count": 97,
   "id": "c2455c38",
   "metadata": {},
   "outputs": [],
   "source": [
    "res_opt = pd.DataFrame((X_test.reset_index()).merge(pd.DataFrame(winner_opt), right_index=True, left_index=True))\n",
    "res_opt.rename(columns={0: 'prob_win_predicted'}, inplace=True)\n",
    "res_opt = res_opt.merge(pd.DataFrame(y1_pred_opt), right_index=True, left_index=True)\n",
    "res_opt.rename(columns={0: 'win_predicted'}, inplace=True)"
   ]
  },
  {
   "cell_type": "code",
   "execution_count": 98,
   "id": "f609010a",
   "metadata": {},
   "outputs": [],
   "source": [
    "max_prob_win_opt = pd.DataFrame(res_opt.groupby('raceId')['prob_win_predicted'].max())"
   ]
  },
  {
   "cell_type": "code",
   "execution_count": 99,
   "id": "fa204bba",
   "metadata": {},
   "outputs": [],
   "source": [
    "max_prob_win_opt.rename(columns={'prob_win_predicted': 'max_prob_win'}, inplace=True)\n",
    "res_opt = res_opt.merge(max_prob_win_opt, right_index=True, left_on='raceId', how='outer')"
   ]
  },
  {
   "cell_type": "markdown",
   "id": "f2399d4c",
   "metadata": {},
   "source": [
    "будем оставлять только победителя с максимальной вероятностью победы"
   ]
  },
  {
   "cell_type": "code",
   "execution_count": 100,
   "id": "efe32fc7",
   "metadata": {},
   "outputs": [],
   "source": [
    "res_opt.loc[res_opt['win_predicted'] == 1, 'winner'] = 1"
   ]
  },
  {
   "cell_type": "code",
   "execution_count": 101,
   "id": "a83e69ab",
   "metadata": {},
   "outputs": [],
   "source": [
    "num_win = pd.DataFrame(res_opt.groupby('raceId')['winner'].sum())"
   ]
  },
  {
   "cell_type": "code",
   "execution_count": 102,
   "id": "638bcd23",
   "metadata": {},
   "outputs": [],
   "source": [
    "num_win.rename(columns={'winner': 'num_win'}, inplace=True)\n",
    "res_opt = res_opt.merge(num_win, right_index=True, left_on='raceId', how='outer')"
   ]
  },
  {
   "cell_type": "code",
   "execution_count": 103,
   "id": "85fcb097",
   "metadata": {},
   "outputs": [],
   "source": [
    "res_opt.loc[(res_opt['num_win'] > 1)&(res_opt['prob_win_predicted'] == res_opt['max_prob_win']), 'winner_2'] = 1"
   ]
  },
  {
   "cell_type": "code",
   "execution_count": 104,
   "id": "7a70a62c",
   "metadata": {},
   "outputs": [],
   "source": [
    "res_opt['winner_2'].fillna(0, inplace=True)"
   ]
  },
  {
   "cell_type": "code",
   "execution_count": 105,
   "id": "9c7cbc5f",
   "metadata": {},
   "outputs": [],
   "source": [
    "res_opt.loc[(res_opt['num_win'] < 1)&(res_opt['prob_win_predicted'] == res_opt['max_prob_win']), 'winner_2'] = 1"
   ]
  },
  {
   "cell_type": "code",
   "execution_count": 106,
   "id": "546fc1c8",
   "metadata": {},
   "outputs": [
    {
     "data": {
      "text/plain": [
       "321"
      ]
     },
     "execution_count": 106,
     "metadata": {},
     "output_type": "execute_result"
    }
   ],
   "source": [
    "len(res_opt[res_opt['winner_2'] == 1])"
   ]
  },
  {
   "cell_type": "code",
   "execution_count": 107,
   "id": "418a3429",
   "metadata": {},
   "outputs": [
    {
     "name": "stdout",
     "output_type": "stream",
     "text": [
      "ROC_AUC = 0.9232\n",
      "accuracy = 0.9523\n",
      "precision = 0.4268\n",
      "recall = 0.4190\n"
     ]
    }
   ],
   "source": [
    "roc_auc = roc_auc_score(y1_test, winner_opt)\n",
    "accuracy = accuracy_score(y1_test, res_opt['winner_2'])\n",
    "precision = precision_score(y1_test, res_opt['winner_2'])\n",
    "recall = recall_score(y1_test,  res_opt['winner_2'])\n",
    "print('ROC_AUC = %.4f' % roc_auc)\n",
    "print('accuracy = %.4f' % accuracy)\n",
    "print('precision = %.4f' % precision)\n",
    "print('recall = %.4f' % recall)"
   ]
  },
  {
   "cell_type": "markdown",
   "id": "2becb02c",
   "metadata": {},
   "source": [
    "Удалим ненужные колонки"
   ]
  },
  {
   "cell_type": "code",
   "execution_count": 108,
   "id": "9e729566",
   "metadata": {},
   "outputs": [],
   "source": [
    "res_opt.drop(['winner', 'num_win'], axis=1, inplace=True)"
   ]
  },
  {
   "cell_type": "markdown",
   "id": "65ad5923",
   "metadata": {},
   "source": [
    "**Вывод:** мы предсказали вероятность победы для каждого гонщика, участвующего в гонке, а также пробовали подобрать лучший способ на основе этого называть победителя гонки. Оптимальным вариантом оказалось называть победителем человека с наибольшей вероятностью победы"
   ]
  },
  {
   "cell_type": "markdown",
   "id": "06098523",
   "metadata": {},
   "source": [
    "## Предсказание подиумов"
   ]
  },
  {
   "cell_type": "markdown",
   "id": "ee049c6d",
   "metadata": {},
   "source": [
    "Кроме того, мы хотели предсказывать вероятность подиума для каждого гонщика"
   ]
  },
  {
   "cell_type": "code",
   "execution_count": 109,
   "id": "79fa34f6",
   "metadata": {},
   "outputs": [],
   "source": [
    "model2 = LogisticRegression()\n",
    "model2.fit(X_train_new_s, y2_train)\n",
    "probs = model2.predict_proba(X_test_new_s)\n",
    "podium = probs[:, 1]\n",
    "y2_pred = model2.predict(X_test_new_s)"
   ]
  },
  {
   "cell_type": "code",
   "execution_count": 110,
   "id": "309d66dd",
   "metadata": {},
   "outputs": [
    {
     "name": "stdout",
     "output_type": "stream",
     "text": [
      "ROC_AUC = 0.9080\n",
      "accuracy = 0.8937\n",
      "precision = 0.6230\n",
      "recall = 0.3909\n"
     ]
    }
   ],
   "source": [
    "roc_auc = roc_auc_score(y2_test, podium)\n",
    "accuracy = accuracy_score(y2_test, y2_pred)\n",
    "precision = precision_score(y2_test, y2_pred)\n",
    "recall = recall_score(y2_test, y2_pred)\n",
    "print('ROC_AUC = %.4f' % roc_auc)\n",
    "print('accuracy = %.4f' % accuracy)\n",
    "print('precision = %.4f' % precision)\n",
    "print('recall = %.4f' % recall)"
   ]
  },
  {
   "cell_type": "code",
   "execution_count": 111,
   "id": "10629065",
   "metadata": {},
   "outputs": [],
   "source": [
    "res_opt = res_opt.merge(pd.DataFrame(podium), right_index=True, left_index=True)"
   ]
  },
  {
   "cell_type": "markdown",
   "id": "f61c537e",
   "metadata": {},
   "source": [
    "Таким образом, мы добавили предсказанные нами вероятности подиума и победы для тестовой выборки"
   ]
  },
  {
   "cell_type": "code",
   "execution_count": 116,
   "id": "e9136b4f",
   "metadata": {},
   "outputs": [],
   "source": [
    "res_opt.rename(columns={0: 'prob_podium_predicted'}, inplace=True)"
   ]
  },
  {
   "cell_type": "code",
   "execution_count": null,
   "id": "4502716b",
   "metadata": {},
   "outputs": [],
   "source": []
  }
 ],
 "metadata": {
  "kernelspec": {
   "display_name": "Python 3 (ipykernel)",
   "language": "python",
   "name": "python3"
  },
  "language_info": {
   "codemirror_mode": {
    "name": "ipython",
    "version": 3
   },
   "file_extension": ".py",
   "mimetype": "text/x-python",
   "name": "python",
   "nbconvert_exporter": "python",
   "pygments_lexer": "ipython3",
   "version": "3.9.7"
  }
 },
 "nbformat": 4,
 "nbformat_minor": 5
}
